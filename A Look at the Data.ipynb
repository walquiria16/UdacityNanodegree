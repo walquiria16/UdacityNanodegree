{
 "cells": [
  {
   "cell_type": "markdown",
   "metadata": {},
   "source": [
    "### A Look at the Data\n",
    "\n",
    "In order to get a better understanding of the data we will be looking at throughout this lesson, let's take a look at some of the characteristics of the dataset.\n",
    "\n",
    "First, let's read in the data and necessary libraries."
   ]
  },
  {
   "cell_type": "code",
   "execution_count": 41,
   "metadata": {},
   "outputs": [
    {
     "data": {
      "text/html": [
       "<div>\n",
       "<style scoped>\n",
       "    .dataframe tbody tr th:only-of-type {\n",
       "        vertical-align: middle;\n",
       "    }\n",
       "\n",
       "    .dataframe tbody tr th {\n",
       "        vertical-align: top;\n",
       "    }\n",
       "\n",
       "    .dataframe thead th {\n",
       "        text-align: right;\n",
       "    }\n",
       "</style>\n",
       "<table border=\"1\" class=\"dataframe\">\n",
       "  <thead>\n",
       "    <tr style=\"text-align: right;\">\n",
       "      <th></th>\n",
       "      <th>Respondent</th>\n",
       "      <th>Professional</th>\n",
       "      <th>ProgramHobby</th>\n",
       "      <th>Country</th>\n",
       "      <th>University</th>\n",
       "      <th>EmploymentStatus</th>\n",
       "      <th>FormalEducation</th>\n",
       "      <th>MajorUndergrad</th>\n",
       "      <th>HomeRemote</th>\n",
       "      <th>CompanySize</th>\n",
       "      <th>...</th>\n",
       "      <th>StackOverflowMakeMoney</th>\n",
       "      <th>Gender</th>\n",
       "      <th>HighestEducationParents</th>\n",
       "      <th>Race</th>\n",
       "      <th>SurveyLong</th>\n",
       "      <th>QuestionsInteresting</th>\n",
       "      <th>QuestionsConfusing</th>\n",
       "      <th>InterestedAnswers</th>\n",
       "      <th>Salary</th>\n",
       "      <th>ExpectedSalary</th>\n",
       "    </tr>\n",
       "  </thead>\n",
       "  <tbody>\n",
       "    <tr>\n",
       "      <th>0</th>\n",
       "      <td>1</td>\n",
       "      <td>Student</td>\n",
       "      <td>Yes, both</td>\n",
       "      <td>United States</td>\n",
       "      <td>No</td>\n",
       "      <td>Not employed, and not looking for work</td>\n",
       "      <td>Secondary school</td>\n",
       "      <td>NaN</td>\n",
       "      <td>NaN</td>\n",
       "      <td>NaN</td>\n",
       "      <td>...</td>\n",
       "      <td>Strongly disagree</td>\n",
       "      <td>Male</td>\n",
       "      <td>High school</td>\n",
       "      <td>White or of European descent</td>\n",
       "      <td>Strongly disagree</td>\n",
       "      <td>Strongly agree</td>\n",
       "      <td>Disagree</td>\n",
       "      <td>Strongly agree</td>\n",
       "      <td>NaN</td>\n",
       "      <td>NaN</td>\n",
       "    </tr>\n",
       "    <tr>\n",
       "      <th>1</th>\n",
       "      <td>2</td>\n",
       "      <td>Student</td>\n",
       "      <td>Yes, both</td>\n",
       "      <td>United Kingdom</td>\n",
       "      <td>Yes, full-time</td>\n",
       "      <td>Employed part-time</td>\n",
       "      <td>Some college/university study without earning ...</td>\n",
       "      <td>Computer science or software engineering</td>\n",
       "      <td>More than half, but not all, the time</td>\n",
       "      <td>20 to 99 employees</td>\n",
       "      <td>...</td>\n",
       "      <td>Strongly disagree</td>\n",
       "      <td>Male</td>\n",
       "      <td>A master's degree</td>\n",
       "      <td>White or of European descent</td>\n",
       "      <td>Somewhat agree</td>\n",
       "      <td>Somewhat agree</td>\n",
       "      <td>Disagree</td>\n",
       "      <td>Strongly agree</td>\n",
       "      <td>NaN</td>\n",
       "      <td>37500.0</td>\n",
       "    </tr>\n",
       "    <tr>\n",
       "      <th>2</th>\n",
       "      <td>3</td>\n",
       "      <td>Professional developer</td>\n",
       "      <td>Yes, both</td>\n",
       "      <td>United Kingdom</td>\n",
       "      <td>No</td>\n",
       "      <td>Employed full-time</td>\n",
       "      <td>Bachelor's degree</td>\n",
       "      <td>Computer science or software engineering</td>\n",
       "      <td>Less than half the time, but at least one day ...</td>\n",
       "      <td>10,000 or more employees</td>\n",
       "      <td>...</td>\n",
       "      <td>Disagree</td>\n",
       "      <td>Male</td>\n",
       "      <td>A professional degree</td>\n",
       "      <td>White or of European descent</td>\n",
       "      <td>Somewhat agree</td>\n",
       "      <td>Agree</td>\n",
       "      <td>Disagree</td>\n",
       "      <td>Agree</td>\n",
       "      <td>113750.0</td>\n",
       "      <td>NaN</td>\n",
       "    </tr>\n",
       "    <tr>\n",
       "      <th>3</th>\n",
       "      <td>4</td>\n",
       "      <td>Professional non-developer who sometimes write...</td>\n",
       "      <td>Yes, both</td>\n",
       "      <td>United States</td>\n",
       "      <td>No</td>\n",
       "      <td>Employed full-time</td>\n",
       "      <td>Doctoral degree</td>\n",
       "      <td>A non-computer-focused engineering discipline</td>\n",
       "      <td>Less than half the time, but at least one day ...</td>\n",
       "      <td>10,000 or more employees</td>\n",
       "      <td>...</td>\n",
       "      <td>Disagree</td>\n",
       "      <td>Male</td>\n",
       "      <td>A doctoral degree</td>\n",
       "      <td>White or of European descent</td>\n",
       "      <td>Agree</td>\n",
       "      <td>Agree</td>\n",
       "      <td>Somewhat agree</td>\n",
       "      <td>Strongly agree</td>\n",
       "      <td>NaN</td>\n",
       "      <td>NaN</td>\n",
       "    </tr>\n",
       "    <tr>\n",
       "      <th>4</th>\n",
       "      <td>5</td>\n",
       "      <td>Professional developer</td>\n",
       "      <td>Yes, I program as a hobby</td>\n",
       "      <td>Switzerland</td>\n",
       "      <td>No</td>\n",
       "      <td>Employed full-time</td>\n",
       "      <td>Master's degree</td>\n",
       "      <td>Computer science or software engineering</td>\n",
       "      <td>Never</td>\n",
       "      <td>10 to 19 employees</td>\n",
       "      <td>...</td>\n",
       "      <td>NaN</td>\n",
       "      <td>NaN</td>\n",
       "      <td>NaN</td>\n",
       "      <td>NaN</td>\n",
       "      <td>NaN</td>\n",
       "      <td>NaN</td>\n",
       "      <td>NaN</td>\n",
       "      <td>NaN</td>\n",
       "      <td>NaN</td>\n",
       "      <td>NaN</td>\n",
       "    </tr>\n",
       "  </tbody>\n",
       "</table>\n",
       "<p>5 rows × 154 columns</p>\n",
       "</div>"
      ],
      "text/plain": [
       "   Respondent                                       Professional  \\\n",
       "0           1                                            Student   \n",
       "1           2                                            Student   \n",
       "2           3                             Professional developer   \n",
       "3           4  Professional non-developer who sometimes write...   \n",
       "4           5                             Professional developer   \n",
       "\n",
       "                ProgramHobby         Country      University  \\\n",
       "0                  Yes, both   United States              No   \n",
       "1                  Yes, both  United Kingdom  Yes, full-time   \n",
       "2                  Yes, both  United Kingdom              No   \n",
       "3                  Yes, both   United States              No   \n",
       "4  Yes, I program as a hobby     Switzerland              No   \n",
       "\n",
       "                         EmploymentStatus  \\\n",
       "0  Not employed, and not looking for work   \n",
       "1                      Employed part-time   \n",
       "2                      Employed full-time   \n",
       "3                      Employed full-time   \n",
       "4                      Employed full-time   \n",
       "\n",
       "                                     FormalEducation  \\\n",
       "0                                   Secondary school   \n",
       "1  Some college/university study without earning ...   \n",
       "2                                  Bachelor's degree   \n",
       "3                                    Doctoral degree   \n",
       "4                                    Master's degree   \n",
       "\n",
       "                                  MajorUndergrad  \\\n",
       "0                                            NaN   \n",
       "1       Computer science or software engineering   \n",
       "2       Computer science or software engineering   \n",
       "3  A non-computer-focused engineering discipline   \n",
       "4       Computer science or software engineering   \n",
       "\n",
       "                                          HomeRemote  \\\n",
       "0                                                NaN   \n",
       "1              More than half, but not all, the time   \n",
       "2  Less than half the time, but at least one day ...   \n",
       "3  Less than half the time, but at least one day ...   \n",
       "4                                              Never   \n",
       "\n",
       "                CompanySize       ...       StackOverflowMakeMoney Gender  \\\n",
       "0                       NaN       ...            Strongly disagree   Male   \n",
       "1        20 to 99 employees       ...            Strongly disagree   Male   \n",
       "2  10,000 or more employees       ...                     Disagree   Male   \n",
       "3  10,000 or more employees       ...                     Disagree   Male   \n",
       "4        10 to 19 employees       ...                          NaN    NaN   \n",
       "\n",
       "  HighestEducationParents                          Race         SurveyLong  \\\n",
       "0             High school  White or of European descent  Strongly disagree   \n",
       "1       A master's degree  White or of European descent     Somewhat agree   \n",
       "2   A professional degree  White or of European descent     Somewhat agree   \n",
       "3       A doctoral degree  White or of European descent              Agree   \n",
       "4                     NaN                           NaN                NaN   \n",
       "\n",
       "  QuestionsInteresting QuestionsConfusing InterestedAnswers    Salary  \\\n",
       "0       Strongly agree           Disagree    Strongly agree       NaN   \n",
       "1       Somewhat agree           Disagree    Strongly agree       NaN   \n",
       "2                Agree           Disagree             Agree  113750.0   \n",
       "3                Agree     Somewhat agree    Strongly agree       NaN   \n",
       "4                  NaN                NaN               NaN       NaN   \n",
       "\n",
       "   ExpectedSalary  \n",
       "0             NaN  \n",
       "1         37500.0  \n",
       "2             NaN  \n",
       "3             NaN  \n",
       "4             NaN  \n",
       "\n",
       "[5 rows x 154 columns]"
      ]
     },
     "execution_count": 41,
     "metadata": {},
     "output_type": "execute_result"
    }
   ],
   "source": [
    "import numpy as np\n",
    "import pandas as pd\n",
    "import matplotlib.pyplot as plt\n",
    "import ALookAtTheData as t\n",
    "from IPython import display\n",
    "%matplotlib inline\n",
    "\n",
    "df = pd.read_csv('./survey_results_public.csv')\n",
    "df.head()"
   ]
  },
  {
   "cell_type": "markdown",
   "metadata": {},
   "source": [
    "As you work through the notebook(s) in this and future parts of this program, you will see some consistency in how to test your solutions to assure they match what we achieved!  In every workspace, there is a solution file and a test file.  There will be checks for each solution built into each notebook, but if you get stuck, you may also open the solution notebook to see how we find any of the solutions.  Let's take a look at an example.\n",
    "\n",
    "### Question 1\n",
    "\n",
    "**1.** Provide the number of rows and columns in this dataset."
   ]
  },
  {
   "cell_type": "code",
   "execution_count": 4,
   "metadata": {},
   "outputs": [
    {
     "name": "stdout",
     "output_type": "stream",
     "text": [
      "Nice job there are 19102 rows in the dataset!\n",
      "Nice job there are 154 columns in the dataset!\n"
     ]
    }
   ],
   "source": [
    "# We solved this one for you by providing the number of rows and columns:\n",
    "# You can see how we are prompted that we solved for the number of rows and cols correctly!\n",
    "\n",
    "#ALookAtTheData#Provide the number of rows in the dataset\n",
    "num_cols = df.shape[1] #Provide the number of columns in the dataset\n",
    "num_rows = df.shape[0] #ptovide the number of rows in the dataset\n",
    "t.check_rows_cols(num_rows, num_cols) "
   ]
  },
  {
   "cell_type": "code",
   "execution_count": 5,
   "metadata": {},
   "outputs": [
    {
     "name": "stdout",
     "output_type": "stream",
     "text": [
      "That doesn't look like what we were expecting for the number of rows.\n",
      "That doesn't look like what we were expecting for the number of columns.\n"
     ]
    }
   ],
   "source": [
    "# If we made a mistake - a different prompt will appear\n",
    "\n",
    "flipped_num_rows = df.shape[1] #Provide the number of rows in the dataset\n",
    "flipped_num_cols = df.shape[0] #Provide the number of columns in the dataset\n",
    "\n",
    "t.check_rows_cols(flipped_num_rows, flipped_num_cols) "
   ]
  },
  {
   "cell_type": "code",
   "execution_count": 24,
   "metadata": {},
   "outputs": [
    {
     "name": "stdout",
     "output_type": "stream",
     "text": [
      "That doesn't look like what we were expecting for the number of rows.\n",
      "That doesn't look like what we were expecting for the number of columns.\n"
     ]
    }
   ],
   "source": [
    "# If you want to know more about what the test function is expecting, \n",
    "# you can read the documentation the same way as any other funtion\n",
    "t.check_rows_cols?"
   ]
  },
  {
   "cell_type": "markdown",
   "metadata": {},
   "source": [
    "Now that you are familiar with how to test your code - let's have you answer your first question:\n",
    "\n",
    "### Question 2\n",
    "\n",
    "**2.** Which columns had no missing values? Provide a set of column names that have no missing values.\n"
   ]
  },
  {
   "cell_type": "code",
   "execution_count": 71,
   "metadata": {},
   "outputs": [
    {
     "name": "stdout",
     "output_type": "stream",
     "text": [
      "Respondent                   100\n",
      "Professional                 100\n",
      "FormalEducation              100\n",
      "EmploymentStatus             100\n",
      "University                   100\n",
      "Country                      100\n",
      "ProgramHobby                 100\n",
      "PronounceGIF                  99\n",
      "YearsProgram                  99\n",
      "HomeRemote                    86\n",
      "CareerSatisfaction            84\n",
      "MajorUndergrad                83\n",
      "YearsCodedJob                 80\n",
      "ClickyKeys                    80\n",
      "JobSatisfaction               79\n",
      "CompanySize                   76\n",
      "CompanyType                   76\n",
      "TabsSpaces                    74\n",
      "DeveloperType                 72\n",
      "StackOverflowSatisfaction     70\n",
      "WorkStart                     70\n",
      "AuditoryEnvironment           70\n",
      "HaveWorkedLanguage            70\n",
      "StackOverflowDescribes        70\n",
      "IDE                           69\n",
      "HighestEducationParents       67\n",
      "Gender                        67\n",
      "StackOverflowDevices          67\n",
      "SurveyLong                    67\n",
      "JobSeekingStatus              67\n",
      "                            ... \n",
      "AssessJobFinances             43\n",
      "AssessJobLeaders              43\n",
      "InfluenceRecruitment          43\n",
      "AssessJobRemote               43\n",
      "AssessJobCommute              43\n",
      "AssessJobOffice               43\n",
      "AssessJobDept                 43\n",
      "AssessJobExp                  43\n",
      "AssessJobRole                 43\n",
      "InfluenceCommunication        43\n",
      "Currency                      42\n",
      "HoursPerWeek                  40\n",
      "HaveWorkedFramework           38\n",
      "CousinEducation               36\n",
      "Overpaid                      27\n",
      "Salary                        26\n",
      "WebDeveloperType              22\n",
      "NonDeveloperType               8\n",
      "TimeAfterBootcamp              4\n",
      "ExpectedSalary                 4\n",
      "MobileDeveloperType            2\n",
      "YearsCodedJobPast              1\n",
      "ExCoderReturn                  1\n",
      "ExCoderNotForMe                1\n",
      "ExCoderBalance                 1\n",
      "ExCoder10Years                 1\n",
      "ExCoderBelonged                1\n",
      "ExCoderSkills                  1\n",
      "ExCoderWillNotCode             1\n",
      "ExCoderActive                  1\n",
      "Length: 154, dtype: int64\n"
     ]
    }
   ],
   "source": [
    "def missing(no_nulls):\n",
    "    print (round((no_nulls.notnull().sum() * 100/ len(no_nulls)).astype(int)).sort_values(ascending=False))\n",
    "    \n",
    "   \n",
    "    #function to identify percentage no missing\n",
    "    \n",
    "          \n",
    "missing(df)\n",
    "\n",
    "\n",
    "\n",
    "#astype(int) converte números float para valores inteiros\n",
    "\n",
    "\n"
   ]
  },
  {
   "cell_type": "markdown",
   "metadata": {},
   "source": [
    "### Question 3\n",
    "\n",
    "**3.** Which columns have the most missing values?  Provide a set of column names that have more than 75% if their values missing."
   ]
  },
  {
   "cell_type": "code",
   "execution_count": null,
   "metadata": {},
   "outputs": [],
   "source": []
  },
  {
   "cell_type": "code",
   "execution_count": 80,
   "metadata": {},
   "outputs": [
    {
     "name": "stdout",
     "output_type": "stream",
     "text": [
      "Respondent                   False\n",
      "Professional                 False\n",
      "EmploymentStatus             False\n",
      "University                   False\n",
      "Country                      False\n",
      "ProgramHobby                 False\n",
      "FormalEducation              False\n",
      "YearsProgram                 False\n",
      "PronounceGIF                 False\n",
      "HomeRemote                   False\n",
      "CareerSatisfaction           False\n",
      "MajorUndergrad               False\n",
      "YearsCodedJob                False\n",
      "ClickyKeys                   False\n",
      "JobSatisfaction              False\n",
      "CompanySize                  False\n",
      "CompanyType                  False\n",
      "TabsSpaces                    True\n",
      "DeveloperType                 True\n",
      "StackOverflowDescribes        True\n",
      "HaveWorkedLanguage            True\n",
      "WorkStart                     True\n",
      "StackOverflowSatisfaction     True\n",
      "AuditoryEnvironment           True\n",
      "IDE                           True\n",
      "StackOverflowDevices          True\n",
      "Gender                        True\n",
      "HighestEducationParents       True\n",
      "JobSeekingStatus              True\n",
      "SurveyLong                    True\n",
      "                             ...  \n",
      "InfluenceHardware             True\n",
      "InfluenceDatabase             True\n",
      "InfluenceTechStack            True\n",
      "InfluenceCommunication        True\n",
      "InfluenceVizTools             True\n",
      "InfluenceRecruitment          True\n",
      "InfluenceDeptTech             True\n",
      "InfluenceCloud                True\n",
      "InfluenceServers              True\n",
      "InfluenceConsultants          True\n",
      "Currency                      True\n",
      "HoursPerWeek                  True\n",
      "HaveWorkedFramework           True\n",
      "CousinEducation               True\n",
      "Overpaid                      True\n",
      "Salary                        True\n",
      "WebDeveloperType              True\n",
      "NonDeveloperType              True\n",
      "TimeAfterBootcamp             True\n",
      "ExpectedSalary                True\n",
      "MobileDeveloperType           True\n",
      "YearsCodedJobPast             True\n",
      "ExCoder10Years                True\n",
      "ExCoderSkills                 True\n",
      "ExCoderReturn                 True\n",
      "ExCoderBalance                True\n",
      "ExCoderBelonged               True\n",
      "ExCoderActive                 True\n",
      "ExCoderNotForMe               True\n",
      "ExCoderWillNotCode            True\n",
      "Length: 154, dtype: bool\n"
     ]
    }
   ],
   "source": [
    "def missing(with_nulls):\n",
    "    print (round((with_nulls.notnull().sum() * 100/ len(with_nulls)),2).sort_values(ascending=False)<75)\n",
    "    \n",
    "   \n",
    "    #function to identify percentage no missing\n",
    "    \n",
    "          \n",
    "missing(df)\n",
    "\n",
    "\n",
    "  "
   ]
  },
  {
   "cell_type": "markdown",
   "metadata": {},
   "source": [
    "### Question 4\n",
    "\n",
    "**4.** Provide a pandas series of the different **Professional** status values in the dataset along with the count of the number of individuals with each status.  Store this pandas series in **status_vals**.  If you are correct, you should see a bar chart of the proportion of individuals in each status."
   ]
  },
  {
   "cell_type": "code",
   "execution_count": 137,
   "metadata": {
    "scrolled": false
   },
   "outputs": [
    {
     "name": "stdout",
     "output_type": "stream",
     "text": [
      "Professional\n",
      "None of these                                             368\n",
      "Professional developer                                  13774\n",
      "Professional non-developer who sometimes writes code     1782\n",
      "Student                                                  2821\n",
      "Used to be a professional developer                       357\n",
      "dtype: int64\n"
     ]
    },
    {
     "data": {
      "image/png": "[encoded data removed]",
      "text/plain": [
       "<matplotlib.figure.Figure at 0x7f7119fcae10>"
      ]
     },
     "metadata": {
      "needs_background": "light"
     },
     "output_type": "display_data"
    }
   ],
   "source": [
    " #Provide a pandas series of the counts for each Professional status\n",
    "\n",
    "#groupby(['']).count()\n",
    "#conta a frequencia que o mesmo nome aparece numa coluna de uma série\n",
    "\n",
    "status_vals= df.groupby(['Professional']).size()\n",
    "print(status_vals)\n",
    "\n",
    "# The below should be a bar chart of the proportion of individuals in each professional category if your status_vals\n",
    "# is set up correctly.\n",
    "\n",
    "(status_vals/df.shape[0]).plot(kind=\"bar\");\n",
    "(plt.title(\"What kind of developer are you?\"));\n"
   ]
  },
  {
   "cell_type": "markdown",
   "metadata": {},
   "source": [
    "### Question 5\n",
    "\n",
    "**5.** Provide a pandas series of the different **FormalEducation** status values in the dataset along with the count of how many individuals received that formal education.  Store this pandas series in **ed_vals**.  If you are correct, you should see a bar chart of the proportion of individuals in each status."
   ]
  },
  {
   "cell_type": "code",
   "execution_count": 133,
   "metadata": {},
   "outputs": [
    {
     "name": "stdout",
     "output_type": "stream",
     "text": [
      "FormalEducation\n",
      "Bachelor's degree                                                    8099\n",
      "Doctoral degree                                                       551\n",
      "I never completed any formal education                                145\n",
      "I prefer not to answer                                                409\n",
      "Master's degree                                                      4143\n",
      "Primary/elementary school                                             404\n",
      "Professional degree                                                   255\n",
      "Secondary school                                                     2227\n",
      "Some college/university study without earning a bachelor's degree    2869\n",
      "dtype: int64\n"
     ]
    },
    {
     "data": {
      "image/png": "[encoded data removed]",
      "text/plain": [
       "<matplotlib.figure.Figure at 0x7f711a67d828>"
      ]
     },
     "metadata": {
      "needs_background": "light"
     },
     "output_type": "display_data"
    }
   ],
   "source": [
    "ed_vals = df.groupby(['FormalEducation']).size() #Provide a pandas series of the counts for each FormalEducation status\n",
    "print(ed_vals)\n",
    "             \n",
    "\n",
    "# The below should be a bar chart of the proportion of individuals in your ed_vals\n",
    "# if it is set up correctly.\n",
    "\n",
    "(ed_vals/df.shape[0]).plot(kind=\"bar\");\n",
    "plt.title(\"Formal Education\");"
   ]
  },
  {
   "cell_type": "markdown",
   "metadata": {},
   "source": [
    "### Question 6\n",
    "\n",
    "**6.** Provide a pandas series of the different **Country** values in the dataset along with the count of how many individuals are from each country.  Store this pandas series in **count_vals**.  If you are correct, you should see a bar chart of the proportion of individuals in each country."
   ]
  },
  {
   "cell_type": "code",
   "execution_count": 139,
   "metadata": {},
   "outputs": [
    {
     "name": "stdout",
     "output_type": "stream",
     "text": [
      "Country\n",
      "Afghanistan                   13\n",
      "Aland Islands                  7\n",
      "Albania                       30\n",
      "Algeria                       16\n",
      "American Samoa                 1\n",
      "Andorra                        4\n",
      "Angola                         1\n",
      "Anguilla                       1\n",
      "Antarctica                     3\n",
      "Argentina                     99\n",
      "Armenia                       28\n",
      "Australia                    399\n",
      "Austria                      190\n",
      "Azerbaidjan                   11\n",
      "Bahamas                        1\n",
      "Bahrain                        2\n",
      "Bangladesh                    74\n",
      "Belarus                       31\n",
      "Belgium                      138\n",
      "Bermuda                        2\n",
      "Bhutan                         1\n",
      "Bolivia                        6\n",
      "Bosnia-Herzegovina            35\n",
      "Botswana                       3\n",
      "Bouvet Island                  2\n",
      "Brazil                       259\n",
      "Brunei Darussalam              1\n",
      "Bulgaria                     107\n",
      "Burkina Faso                   1\n",
      "Cambodia                       6\n",
      "                            ... \n",
      "South Korea                   69\n",
      "Spain                        312\n",
      "Sri Lanka                     59\n",
      "Sudan                          1\n",
      "Sweden                       267\n",
      "Switzerland                  242\n",
      "Syria                          3\n",
      "Tadjikistan                    1\n",
      "Taiwan                        48\n",
      "Tanzania                       5\n",
      "Thailand                      54\n",
      "Togo                           1\n",
      "Trinidad and Tobago            7\n",
      "Tunisia                       22\n",
      "Turkey                       146\n",
      "Uganda                         9\n",
      "Ukraine                      148\n",
      "United Arab Emirates          45\n",
      "United Kingdom              1424\n",
      "United States               4364\n",
      "Uruguay                       32\n",
      "Uzbekistan                     7\n",
      "Vatican City State             1\n",
      "Venezuela                     16\n",
      "Vietnam                       57\n",
      "Virgin Islands (British)       1\n",
      "Virgin Islands (USA)           1\n",
      "Zaire                          1\n",
      "Zambia                         2\n",
      "Zimbabwe                       4\n",
      "Length: 165, dtype: int64\n"
     ]
    },
    {
     "data": {
      "image/png": "[encoded data removed]",
      "text/plain": [
       "<matplotlib.figure.Figure at 0x7f711a911f60>"
      ]
     },
     "metadata": {
      "needs_background": "light"
     },
     "output_type": "display_data"
    }
   ],
   "source": [
    "count_vals = df.groupby(['Country']).size() ##Provide a pandas series of the counts for each Country\n",
    "print(count_vals)\n",
    "# The below should be a bar chart of the proportion of the top 10 countries for the\n",
    "# individuals in your count_vals if it is set up correctly.\n",
    "\n",
    "(count_vals[:15]/df.shape[0]).plot(kind=\"bar\");\n",
    "plt.title(\"Country\");"
   ]
  },
  {
   "cell_type": "markdown",
   "metadata": {},
   "source": [
    "Feel free to explore the dataset further to gain additional familiarity with the columns and rows in the dataset.  You will be working pretty closely with this dataset throughout this lesson."
   ]
  },
  {
   "cell_type": "code",
   "execution_count": 205,
   "metadata": {},
   "outputs": [
    {
     "name": "stdout",
     "output_type": "stream",
     "text": [
      "EmploymentStatus                    Country            \n",
      "Employed full-time                  Afghanistan              7\n",
      "                                    Aland Islands            2\n",
      "                                    Albania                 16\n",
      "                                    Algeria                  5\n",
      "                                    Andorra                  1\n",
      "                                    Argentina               68\n",
      "                                    Armenia                 21\n",
      "                                    Australia              283\n",
      "                                    Austria                124\n",
      "                                    Azerbaidjan              9\n",
      "                                    Bahrain                  2\n",
      "                                    Bangladesh              41\n",
      "                                    Belarus                 25\n",
      "                                    Belgium                 98\n",
      "                                    Bermuda                  1\n",
      "                                    Bhutan                   1\n",
      "                                    Bolivia                  3\n",
      "                                    Bosnia-Herzegovina      27\n",
      "                                    Bouvet Island            1\n",
      "                                    Brazil                 176\n",
      "                                    Brunei Darussalam        1\n",
      "                                    Bulgaria                90\n",
      "                                    Burkina Faso             1\n",
      "                                    Cambodia                 5\n",
      "                                    Cameroon                 1\n",
      "                                    Canada                 635\n",
      "                                    Cape Verde               1\n",
      "                                    Cayman Islands           1\n",
      "                                    Chile                   31\n",
      "                                    China                   92\n",
      "                                                          ... \n",
      "Not employed, but looking for work  Switzerland              7\n",
      "                                    Taiwan                   1\n",
      "                                    Tanzania                 1\n",
      "                                    Thailand                 4\n",
      "                                    Trinidad and Tobago      1\n",
      "                                    Turkey                   6\n",
      "                                    Uganda                   1\n",
      "                                    Ukraine                  6\n",
      "                                    United Kingdom          55\n",
      "                                    United States          166\n",
      "                                    Venezuela                1\n",
      "                                    Vietnam                  2\n",
      "Retired                             Afghanistan              3\n",
      "                                    Algeria                  1\n",
      "                                    American Samoa           1\n",
      "                                    Anguilla                 1\n",
      "                                    Australia                2\n",
      "                                    Belgium                  1\n",
      "                                    Canada                   6\n",
      "                                    Finland                  2\n",
      "                                    France                   2\n",
      "                                    Germany                  3\n",
      "                                    India                    2\n",
      "                                    Mexico                   1\n",
      "                                    Netherlands              1\n",
      "                                    North Korea              1\n",
      "                                    Sweden                   1\n",
      "                                    Thailand                 1\n",
      "                                    United Kingdom           7\n",
      "                                    United States           24\n",
      "Length: 629, dtype: int64\n"
     ]
    },
    {
     "data": {
      "image/png": "[encoded data removed]",
      "text/plain": [
       "<matplotlib.figure.Figure at 0x7f710e6a7cc0>"
      ]
     },
     "metadata": {
      "needs_background": "light"
     },
     "output_type": "display_data"
    }
   ],
   "source": [
    "status_employem= df.groupby(['EmploymentStatus','Country']).size()\n",
    "print(status_employem)\n",
    "\n",
    "# The below should be a bar chart of the proportion of individuals in each professional category if your status_vals\n",
    "# is set up correctly.\n",
    "\n",
    "\n",
    "(status_employem[:10]/df.shape[0]).plot(kind=\"bar\");\n",
    "plt.title(\"Country x Employement\");\n",
    "\n"
   ]
  },
  {
   "cell_type": "code",
   "execution_count": null,
   "metadata": {},
   "outputs": [],
   "source": []
  }
 ],
 "metadata": {
  "kernelspec": {
   "display_name": "Python 3",
   "language": "python",
   "name": "python3"
  },
  "language_info": {
   "codemirror_mode": {
    "name": "ipython",
    "version": 3
   },
   "file_extension": ".py",
   "mimetype": "text/x-python",
   "name": "python",
   "nbconvert_exporter": "python",
   "pygments_lexer": "ipython3",
   "version": "3.6.3"
  }
 },
 "nbformat": 4,
 "nbformat_minor": 2
}
